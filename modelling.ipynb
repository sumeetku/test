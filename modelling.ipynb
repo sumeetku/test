{
  "nbformat": 4,
  "nbformat_minor": 0,
  "metadata": {
    "kernelspec": {
      "display_name": "Python CV",
      "language": "python",
      "name": "cvvenv"
    },
    "language_info": {
      "codemirror_mode": {
        "name": "ipython",
        "version": 3
      },
      "file_extension": ".py",
      "mimetype": "text/x-python",
      "name": "python",
      "nbconvert_exporter": "python",
      "pygments_lexer": "ipython3",
      "version": "3.6.8"
    },
    "colab": {
      "name": "modelling.ipynb",
      "provenance": [],
      "collapsed_sections": [],
      "include_colab_link": true
    },
    "accelerator": "GPU"
  },
  "cells": [
    {
      "cell_type": "markdown",
      "metadata": {
        "id": "view-in-github",
        "colab_type": "text"
      },
      "source": [
        "<a href=\"https://colab.research.google.com/github/sumeetku/test/blob/master/modelling.ipynb\" target=\"_parent\"><img src=\"https://colab.research.google.com/assets/colab-badge.svg\" alt=\"Open In Colab\"/></a>"
      ]
    },
    {
      "cell_type": "code",
      "metadata": {
        "colab": {
          "base_uri": "https://localhost:8080/"
        },
        "id": "U-NxytT0myCq",
        "outputId": "b24c3c0b-bf62-4b4f-d0f4-9bb9e69c7189"
      },
      "source": [
        "\n",
        "from google.colab import drive\n",
        "drive.mount('/content/drive')"
      ],
      "execution_count": 4,
      "outputs": [
        {
          "output_type": "stream",
          "text": [
            "Mounted at /content/drive\n"
          ],
          "name": "stdout"
        }
      ]
    },
    {
      "cell_type": "code",
      "metadata": {
        "colab": {
          "base_uri": "https://localhost:8080/"
        },
        "id": "zK4s7MzNJehs",
        "outputId": "10e0c9c3-4372-482d-ade3-700195af739e"
      },
      "source": [
        "ls"
      ],
      "execution_count": 5,
      "outputs": [
        {
          "output_type": "stream",
          "text": [
            "\u001b[0m\u001b[01;34mdrive\u001b[0m/  \u001b[01;34msample_data\u001b[0m/\n"
          ],
          "name": "stdout"
        }
      ]
    },
    {
      "cell_type": "code",
      "metadata": {
        "id": "8utMNbsvDb5m"
      },
      "source": [
        "import torch\n",
        "from fastai.vision import *\n",
        "from pathlib import Path\n",
        "from fastai.vision import *\n",
        "import pandas as pd"
      ],
      "execution_count": 6,
      "outputs": []
    },
    {
      "cell_type": "code",
      "metadata": {
        "id": "8lrCWWMBfazj"
      },
      "source": [
        "from fastai.vision import *\n",
        "from pathlib import Path\n",
        "import pandas as pd"
      ],
      "execution_count": 7,
      "outputs": []
    },
    {
      "cell_type": "code",
      "metadata": {
        "id": "FWQMwfKffFqX"
      },
      "source": [
        "from IPython.core.display import display, HTML"
      ],
      "execution_count": 8,
      "outputs": []
    },
    {
      "cell_type": "code",
      "metadata": {
        "id": "gnT9URkmfrtK"
      },
      "source": [
        "path=Path('/content/drive/My Drive/Colab Notebooks/bbc_train/')"
      ],
      "execution_count": 9,
      "outputs": []
    },
    {
      "cell_type": "code",
      "metadata": {
        "colab": {
          "base_uri": "https://localhost:8080/"
        },
        "id": "TnywIKxGfuos",
        "outputId": "deacd0bf-f13f-4432-edc8-2c3015b53bad"
      },
      "source": [
        "ls"
      ],
      "execution_count": 10,
      "outputs": [
        {
          "output_type": "stream",
          "text": [
            "\u001b[0m\u001b[01;34mdrive\u001b[0m/  \u001b[01;34msample_data\u001b[0m/\n"
          ],
          "name": "stdout"
        }
      ]
    },
    {
      "cell_type": "code",
      "metadata": {
        "id": "FjeNT3bSf5KH"
      },
      "source": [
        "labels=pd.read_csv(path/'classification_labels.csv')"
      ],
      "execution_count": 11,
      "outputs": []
    },
    {
      "cell_type": "code",
      "metadata": {
        "colab": {
          "base_uri": "https://localhost:8080/",
          "height": 204
        },
        "id": "bJ_xZt6Hf63T",
        "outputId": "572cc17e-c998-427d-dfdd-2e315a992519"
      },
      "source": [
        "labels.head()"
      ],
      "execution_count": 12,
      "outputs": [
        {
          "output_type": "execute_result",
          "data": {
            "text/html": [
              "<div>\n",
              "<style scoped>\n",
              "    .dataframe tbody tr th:only-of-type {\n",
              "        vertical-align: middle;\n",
              "    }\n",
              "\n",
              "    .dataframe tbody tr th {\n",
              "        vertical-align: top;\n",
              "    }\n",
              "\n",
              "    .dataframe thead th {\n",
              "        text-align: right;\n",
              "    }\n",
              "</style>\n",
              "<table border=\"1\" class=\"dataframe\">\n",
              "  <thead>\n",
              "    <tr style=\"text-align: right;\">\n",
              "      <th></th>\n",
              "      <th>filename</th>\n",
              "      <th>label</th>\n",
              "      <th>label_index</th>\n",
              "    </tr>\n",
              "  </thead>\n",
              "  <tbody>\n",
              "    <tr>\n",
              "      <th>0</th>\n",
              "      <td>P2050936.jpg</td>\n",
              "      <td>ball</td>\n",
              "      <td>2</td>\n",
              "    </tr>\n",
              "    <tr>\n",
              "      <th>1</th>\n",
              "      <td>P2050922.jpg</td>\n",
              "      <td>ball</td>\n",
              "      <td>2</td>\n",
              "    </tr>\n",
              "    <tr>\n",
              "      <th>2</th>\n",
              "      <td>P2060163.jpg</td>\n",
              "      <td>brick</td>\n",
              "      <td>1</td>\n",
              "    </tr>\n",
              "    <tr>\n",
              "      <th>3</th>\n",
              "      <td>P2060003.jpg</td>\n",
              "      <td>ball</td>\n",
              "      <td>2</td>\n",
              "    </tr>\n",
              "    <tr>\n",
              "      <th>4</th>\n",
              "      <td>P2060017.jpg</td>\n",
              "      <td>ball</td>\n",
              "      <td>2</td>\n",
              "    </tr>\n",
              "  </tbody>\n",
              "</table>\n",
              "</div>"
            ],
            "text/plain": [
              "       filename  label  label_index\n",
              "0  P2050936.jpg   ball            2\n",
              "1  P2050922.jpg   ball            2\n",
              "2  P2060163.jpg  brick            1\n",
              "3  P2060003.jpg   ball            2\n",
              "4  P2060017.jpg   ball            2"
            ]
          },
          "metadata": {
            "tags": []
          },
          "execution_count": 12
        }
      ]
    },
    {
      "cell_type": "code",
      "metadata": {
        "id": "cUSko5YIgGFL"
      },
      "source": [
        "images, lbl_bbox = get_annotations(path/'bboxes.json')\n",
        "img2bbox = dict(zip(images, lbl_bbox))\n",
        "get_y_func = lambda o:img2bbox[o.name]\n",
        "src = ObjectItemList.from_folder(path/'images')\n",
        "def get_data(bs, size):\n",
        "    src = ObjectItemList.from_folder(path/'images')\n",
        "    src = src.split_by_rand_pct(0.2)\n",
        "    src = src.label_from_func(get_y_func)\n",
        "    src = src.transform(get_transforms(max_rotate=0), size=size, tfm_y=True)\n",
        "    return src.databunch(path=path, bs=bs, collate_fn=bb_pad_collate)\n",
        "\n",
        "data = get_data(bs=64,size=256)"
      ],
      "execution_count": 146,
      "outputs": []
    },
    {
      "cell_type": "code",
      "metadata": {
        "id": "9LeHilZXpdkA"
      },
      "source": [
        "class MyLoss(nn.Module):\n",
        "    def forward(self, yhat, bbox_tgts, class_tgts):\n",
        "        det_loss=nn.L1Loss()(yhat[:,:4].unsqueeze_(dim=1), bbox_tgts)\n",
        "        cls_loss=nn.CrossEntropyLoss()(yhat[:,4:], class_tgts.view(-1))\n",
        "        #print(det_loss, cls_loss)\n",
        "        \n",
        "        return det_loss + 1.0*cls_loss\n",
        "def my_accuracy(yhat, bbox_tgts, class_tgts):\n",
        "    return accuracy(yhat[:,4:], class_tgts.view(-1))\n",
        "\n",
        "def my_l1(yhat, bbox_tgts, class_tgts):\n",
        "    return nn.L1Loss()(yhat[:,:4].unsqueeze_(dim=1), bbox_tgts)\n",
        "\n"
      ],
      "execution_count": 147,
      "outputs": []
    },
    {
      "cell_type": "code",
      "metadata": {
        "id": "rdupUJ4rphAP"
      },
      "source": [
        "custom_head = nn.Sequential(\n",
        "    AdaptiveConcatPool2d((4,4)),\n",
        "    Flatten(),\n",
        "    nn.ReLU(),\n",
        "    nn.Dropout(0.5),\n",
        "    nn.Linear(16384,256), #2*512*4*4\n",
        "    nn.ReLU(),\n",
        "    nn.BatchNorm1d(256),\n",
        "    nn.Dropout(0.5),\n",
        "    nn.Linear(256,8))"
      ],
      "execution_count": 148,
      "outputs": []
    },
    {
      "cell_type": "code",
      "metadata": {
        "id": "P_8Ib4zDpkEO"
      },
      "source": [
        "learn=cnn_learner(data, models.resnet34, custom_head=custom_head, loss_func=MyLoss(), metrics=[my_accuracy, my_l1])"
      ],
      "execution_count": 149,
      "outputs": []
    },
    {
      "cell_type": "code",
      "metadata": {
        "colab": {
          "base_uri": "https://localhost:8080/",
          "height": 669
        },
        "id": "mFS4MdW-Ld0r",
        "outputId": "4ca64dd0-4eb1-4341-fe9d-badb205c74bb"
      },
      "source": [
        "\n",
        "lr=1e-2\n",
        "learn.fit_one_cycle(20, slice(lr/10, lr))"
      ],
      "execution_count": 160,
      "outputs": [
        {
          "output_type": "display_data",
          "data": {
            "text/html": [
              "<table border=\"1\" class=\"dataframe\">\n",
              "  <thead>\n",
              "    <tr style=\"text-align: left;\">\n",
              "      <th>epoch</th>\n",
              "      <th>train_loss</th>\n",
              "      <th>valid_loss</th>\n",
              "      <th>my_accuracy</th>\n",
              "      <th>my_l1</th>\n",
              "      <th>time</th>\n",
              "    </tr>\n",
              "  </thead>\n",
              "  <tbody>\n",
              "    <tr>\n",
              "      <td>0</td>\n",
              "      <td>0.464330</td>\n",
              "      <td>0.321213</td>\n",
              "      <td>0.989362</td>\n",
              "      <td>0.179978</td>\n",
              "      <td>00:14</td>\n",
              "    </tr>\n",
              "    <tr>\n",
              "      <td>1</td>\n",
              "      <td>0.450926</td>\n",
              "      <td>0.322436</td>\n",
              "      <td>0.984043</td>\n",
              "      <td>0.182686</td>\n",
              "      <td>00:14</td>\n",
              "    </tr>\n",
              "    <tr>\n",
              "      <td>2</td>\n",
              "      <td>0.413591</td>\n",
              "      <td>0.313928</td>\n",
              "      <td>0.984043</td>\n",
              "      <td>0.165134</td>\n",
              "      <td>00:14</td>\n",
              "    </tr>\n",
              "    <tr>\n",
              "      <td>3</td>\n",
              "      <td>0.370049</td>\n",
              "      <td>0.287921</td>\n",
              "      <td>0.989362</td>\n",
              "      <td>0.157747</td>\n",
              "      <td>00:14</td>\n",
              "    </tr>\n",
              "    <tr>\n",
              "      <td>4</td>\n",
              "      <td>0.335508</td>\n",
              "      <td>0.268868</td>\n",
              "      <td>0.994681</td>\n",
              "      <td>0.148755</td>\n",
              "      <td>00:14</td>\n",
              "    </tr>\n",
              "    <tr>\n",
              "      <td>5</td>\n",
              "      <td>0.318850</td>\n",
              "      <td>0.268843</td>\n",
              "      <td>0.989362</td>\n",
              "      <td>0.139999</td>\n",
              "      <td>00:14</td>\n",
              "    </tr>\n",
              "    <tr>\n",
              "      <td>6</td>\n",
              "      <td>0.300885</td>\n",
              "      <td>0.247073</td>\n",
              "      <td>0.989362</td>\n",
              "      <td>0.125979</td>\n",
              "      <td>00:14</td>\n",
              "    </tr>\n",
              "    <tr>\n",
              "      <td>7</td>\n",
              "      <td>0.283735</td>\n",
              "      <td>0.232442</td>\n",
              "      <td>0.994681</td>\n",
              "      <td>0.120483</td>\n",
              "      <td>00:15</td>\n",
              "    </tr>\n",
              "    <tr>\n",
              "      <td>8</td>\n",
              "      <td>0.264628</td>\n",
              "      <td>0.243878</td>\n",
              "      <td>0.989362</td>\n",
              "      <td>0.119848</td>\n",
              "      <td>00:14</td>\n",
              "    </tr>\n",
              "    <tr>\n",
              "      <td>9</td>\n",
              "      <td>0.254126</td>\n",
              "      <td>0.243310</td>\n",
              "      <td>0.994681</td>\n",
              "      <td>0.124032</td>\n",
              "      <td>00:15</td>\n",
              "    </tr>\n",
              "    <tr>\n",
              "      <td>10</td>\n",
              "      <td>0.239075</td>\n",
              "      <td>0.270165</td>\n",
              "      <td>0.989362</td>\n",
              "      <td>0.112719</td>\n",
              "      <td>00:14</td>\n",
              "    </tr>\n",
              "    <tr>\n",
              "      <td>11</td>\n",
              "      <td>0.224710</td>\n",
              "      <td>0.194997</td>\n",
              "      <td>0.994681</td>\n",
              "      <td>0.099992</td>\n",
              "      <td>00:14</td>\n",
              "    </tr>\n",
              "    <tr>\n",
              "      <td>12</td>\n",
              "      <td>0.212101</td>\n",
              "      <td>0.200057</td>\n",
              "      <td>0.994681</td>\n",
              "      <td>0.103163</td>\n",
              "      <td>00:14</td>\n",
              "    </tr>\n",
              "    <tr>\n",
              "      <td>13</td>\n",
              "      <td>0.199950</td>\n",
              "      <td>0.184955</td>\n",
              "      <td>0.994681</td>\n",
              "      <td>0.083355</td>\n",
              "      <td>00:14</td>\n",
              "    </tr>\n",
              "    <tr>\n",
              "      <td>14</td>\n",
              "      <td>0.187358</td>\n",
              "      <td>0.187411</td>\n",
              "      <td>0.994681</td>\n",
              "      <td>0.082705</td>\n",
              "      <td>00:14</td>\n",
              "    </tr>\n",
              "    <tr>\n",
              "      <td>15</td>\n",
              "      <td>0.177324</td>\n",
              "      <td>0.180512</td>\n",
              "      <td>0.994681</td>\n",
              "      <td>0.076787</td>\n",
              "      <td>00:14</td>\n",
              "    </tr>\n",
              "    <tr>\n",
              "      <td>16</td>\n",
              "      <td>0.167898</td>\n",
              "      <td>0.178228</td>\n",
              "      <td>0.994681</td>\n",
              "      <td>0.076473</td>\n",
              "      <td>00:14</td>\n",
              "    </tr>\n",
              "    <tr>\n",
              "      <td>17</td>\n",
              "      <td>0.160208</td>\n",
              "      <td>0.175227</td>\n",
              "      <td>0.994681</td>\n",
              "      <td>0.073550</td>\n",
              "      <td>00:14</td>\n",
              "    </tr>\n",
              "    <tr>\n",
              "      <td>18</td>\n",
              "      <td>0.153066</td>\n",
              "      <td>0.170630</td>\n",
              "      <td>0.994681</td>\n",
              "      <td>0.071849</td>\n",
              "      <td>00:14</td>\n",
              "    </tr>\n",
              "    <tr>\n",
              "      <td>19</td>\n",
              "      <td>0.145965</td>\n",
              "      <td>0.169728</td>\n",
              "      <td>0.994681</td>\n",
              "      <td>0.071430</td>\n",
              "      <td>00:15</td>\n",
              "    </tr>\n",
              "  </tbody>\n",
              "</table>"
            ],
            "text/plain": [
              "<IPython.core.display.HTML object>"
            ]
          },
          "metadata": {
            "tags": []
          }
        }
      ]
    },
    {
      "cell_type": "code",
      "metadata": {
        "colab": {
          "base_uri": "https://localhost:8080/",
          "height": 979
        },
        "id": "7JRwCJg1Db5m",
        "outputId": "bd8935de-5428-4e81-92f6-d6f13ba9966f"
      },
      "source": [
        "lr=5e-4\n",
        "learn.fit_one_cycle(30, slice(lr/10, lr))"
      ],
      "execution_count": 169,
      "outputs": [
        {
          "output_type": "display_data",
          "data": {
            "text/html": [
              "<table border=\"1\" class=\"dataframe\">\n",
              "  <thead>\n",
              "    <tr style=\"text-align: left;\">\n",
              "      <th>epoch</th>\n",
              "      <th>train_loss</th>\n",
              "      <th>valid_loss</th>\n",
              "      <th>my_accuracy</th>\n",
              "      <th>my_l1</th>\n",
              "      <th>time</th>\n",
              "    </tr>\n",
              "  </thead>\n",
              "  <tbody>\n",
              "    <tr>\n",
              "      <td>0</td>\n",
              "      <td>0.116977</td>\n",
              "      <td>0.169391</td>\n",
              "      <td>0.994681</td>\n",
              "      <td>0.067301</td>\n",
              "      <td>00:15</td>\n",
              "    </tr>\n",
              "    <tr>\n",
              "      <td>1</td>\n",
              "      <td>0.117733</td>\n",
              "      <td>0.168375</td>\n",
              "      <td>0.994681</td>\n",
              "      <td>0.067173</td>\n",
              "      <td>00:15</td>\n",
              "    </tr>\n",
              "    <tr>\n",
              "      <td>2</td>\n",
              "      <td>0.112997</td>\n",
              "      <td>0.167989</td>\n",
              "      <td>0.994681</td>\n",
              "      <td>0.067023</td>\n",
              "      <td>00:15</td>\n",
              "    </tr>\n",
              "    <tr>\n",
              "      <td>3</td>\n",
              "      <td>0.113358</td>\n",
              "      <td>0.168793</td>\n",
              "      <td>0.994681</td>\n",
              "      <td>0.066714</td>\n",
              "      <td>00:15</td>\n",
              "    </tr>\n",
              "    <tr>\n",
              "      <td>4</td>\n",
              "      <td>0.112527</td>\n",
              "      <td>0.168935</td>\n",
              "      <td>0.994681</td>\n",
              "      <td>0.067861</td>\n",
              "      <td>00:15</td>\n",
              "    </tr>\n",
              "    <tr>\n",
              "      <td>5</td>\n",
              "      <td>0.111730</td>\n",
              "      <td>0.168868</td>\n",
              "      <td>0.994681</td>\n",
              "      <td>0.068650</td>\n",
              "      <td>00:15</td>\n",
              "    </tr>\n",
              "    <tr>\n",
              "      <td>6</td>\n",
              "      <td>0.111255</td>\n",
              "      <td>0.164985</td>\n",
              "      <td>0.994681</td>\n",
              "      <td>0.067420</td>\n",
              "      <td>00:14</td>\n",
              "    </tr>\n",
              "    <tr>\n",
              "      <td>7</td>\n",
              "      <td>0.109375</td>\n",
              "      <td>0.164444</td>\n",
              "      <td>0.994681</td>\n",
              "      <td>0.066953</td>\n",
              "      <td>00:14</td>\n",
              "    </tr>\n",
              "    <tr>\n",
              "      <td>8</td>\n",
              "      <td>0.109491</td>\n",
              "      <td>0.164888</td>\n",
              "      <td>0.994681</td>\n",
              "      <td>0.066873</td>\n",
              "      <td>00:14</td>\n",
              "    </tr>\n",
              "    <tr>\n",
              "      <td>9</td>\n",
              "      <td>0.110173</td>\n",
              "      <td>0.165236</td>\n",
              "      <td>0.994681</td>\n",
              "      <td>0.068265</td>\n",
              "      <td>00:14</td>\n",
              "    </tr>\n",
              "    <tr>\n",
              "      <td>10</td>\n",
              "      <td>0.109596</td>\n",
              "      <td>0.162147</td>\n",
              "      <td>0.994681</td>\n",
              "      <td>0.067303</td>\n",
              "      <td>00:14</td>\n",
              "    </tr>\n",
              "    <tr>\n",
              "      <td>11</td>\n",
              "      <td>0.109339</td>\n",
              "      <td>0.160137</td>\n",
              "      <td>0.994681</td>\n",
              "      <td>0.064936</td>\n",
              "      <td>00:15</td>\n",
              "    </tr>\n",
              "    <tr>\n",
              "      <td>12</td>\n",
              "      <td>0.108551</td>\n",
              "      <td>0.157714</td>\n",
              "      <td>0.994681</td>\n",
              "      <td>0.065413</td>\n",
              "      <td>00:15</td>\n",
              "    </tr>\n",
              "    <tr>\n",
              "      <td>13</td>\n",
              "      <td>0.109055</td>\n",
              "      <td>0.155661</td>\n",
              "      <td>0.994681</td>\n",
              "      <td>0.063201</td>\n",
              "      <td>00:15</td>\n",
              "    </tr>\n",
              "    <tr>\n",
              "      <td>14</td>\n",
              "      <td>0.108003</td>\n",
              "      <td>0.156403</td>\n",
              "      <td>0.994681</td>\n",
              "      <td>0.064276</td>\n",
              "      <td>00:14</td>\n",
              "    </tr>\n",
              "    <tr>\n",
              "      <td>15</td>\n",
              "      <td>0.108068</td>\n",
              "      <td>0.156586</td>\n",
              "      <td>0.994681</td>\n",
              "      <td>0.064221</td>\n",
              "      <td>00:15</td>\n",
              "    </tr>\n",
              "    <tr>\n",
              "      <td>16</td>\n",
              "      <td>0.107884</td>\n",
              "      <td>0.155394</td>\n",
              "      <td>0.994681</td>\n",
              "      <td>0.064729</td>\n",
              "      <td>00:15</td>\n",
              "    </tr>\n",
              "    <tr>\n",
              "      <td>17</td>\n",
              "      <td>0.107035</td>\n",
              "      <td>0.154402</td>\n",
              "      <td>0.994681</td>\n",
              "      <td>0.060494</td>\n",
              "      <td>00:15</td>\n",
              "    </tr>\n",
              "    <tr>\n",
              "      <td>18</td>\n",
              "      <td>0.106951</td>\n",
              "      <td>0.153235</td>\n",
              "      <td>0.994681</td>\n",
              "      <td>0.060916</td>\n",
              "      <td>00:15</td>\n",
              "    </tr>\n",
              "    <tr>\n",
              "      <td>19</td>\n",
              "      <td>0.105803</td>\n",
              "      <td>0.154110</td>\n",
              "      <td>0.994681</td>\n",
              "      <td>0.061965</td>\n",
              "      <td>00:15</td>\n",
              "    </tr>\n",
              "    <tr>\n",
              "      <td>20</td>\n",
              "      <td>0.104898</td>\n",
              "      <td>0.153356</td>\n",
              "      <td>0.994681</td>\n",
              "      <td>0.060618</td>\n",
              "      <td>00:15</td>\n",
              "    </tr>\n",
              "    <tr>\n",
              "      <td>21</td>\n",
              "      <td>0.103499</td>\n",
              "      <td>0.153675</td>\n",
              "      <td>0.994681</td>\n",
              "      <td>0.060388</td>\n",
              "      <td>00:14</td>\n",
              "    </tr>\n",
              "    <tr>\n",
              "      <td>22</td>\n",
              "      <td>0.103164</td>\n",
              "      <td>0.154069</td>\n",
              "      <td>0.994681</td>\n",
              "      <td>0.060576</td>\n",
              "      <td>00:15</td>\n",
              "    </tr>\n",
              "    <tr>\n",
              "      <td>23</td>\n",
              "      <td>0.102982</td>\n",
              "      <td>0.152687</td>\n",
              "      <td>0.994681</td>\n",
              "      <td>0.059366</td>\n",
              "      <td>00:15</td>\n",
              "    </tr>\n",
              "    <tr>\n",
              "      <td>24</td>\n",
              "      <td>0.101539</td>\n",
              "      <td>0.152229</td>\n",
              "      <td>0.994681</td>\n",
              "      <td>0.058299</td>\n",
              "      <td>00:15</td>\n",
              "    </tr>\n",
              "    <tr>\n",
              "      <td>25</td>\n",
              "      <td>0.101006</td>\n",
              "      <td>0.151362</td>\n",
              "      <td>0.994681</td>\n",
              "      <td>0.058706</td>\n",
              "      <td>00:14</td>\n",
              "    </tr>\n",
              "    <tr>\n",
              "      <td>26</td>\n",
              "      <td>0.100172</td>\n",
              "      <td>0.152676</td>\n",
              "      <td>0.994681</td>\n",
              "      <td>0.058764</td>\n",
              "      <td>00:14</td>\n",
              "    </tr>\n",
              "    <tr>\n",
              "      <td>27</td>\n",
              "      <td>0.101237</td>\n",
              "      <td>0.151814</td>\n",
              "      <td>0.994681</td>\n",
              "      <td>0.059743</td>\n",
              "      <td>00:15</td>\n",
              "    </tr>\n",
              "    <tr>\n",
              "      <td>28</td>\n",
              "      <td>0.101473</td>\n",
              "      <td>0.150660</td>\n",
              "      <td>0.994681</td>\n",
              "      <td>0.058380</td>\n",
              "      <td>00:14</td>\n",
              "    </tr>\n",
              "    <tr>\n",
              "      <td>29</td>\n",
              "      <td>0.099874</td>\n",
              "      <td>0.151568</td>\n",
              "      <td>0.994681</td>\n",
              "      <td>0.058529</td>\n",
              "      <td>00:15</td>\n",
              "    </tr>\n",
              "  </tbody>\n",
              "</table>"
            ],
            "text/plain": [
              "<IPython.core.display.HTML object>"
            ]
          },
          "metadata": {
            "tags": []
          }
        }
      ]
    },
    {
      "cell_type": "code",
      "metadata": {
        "id": "GVBDuPgbuw1V"
      },
      "source": [
        "learn.export()"
      ],
      "execution_count": 175,
      "outputs": []
    },
    {
      "cell_type": "code",
      "metadata": {
        "colab": {
          "base_uri": "https://localhost:8080/"
        },
        "id": "B1sGtFH4v6sc",
        "outputId": "33d3b590-5144-4604-ca45-1db1502b93ab"
      },
      "source": [
        "learn.path"
      ],
      "execution_count": 100,
      "outputs": [
        {
          "output_type": "execute_result",
          "data": {
            "text/plain": [
              "PosixPath('/content/drive/My Drive/Colab Notebooks/bbc_train')"
            ]
          },
          "metadata": {
            "tags": []
          },
          "execution_count": 100
        }
      ]
    },
    {
      "cell_type": "code",
      "metadata": {
        "id": "LY-Gf1-xv2TA"
      },
      "source": [
        "!cp /content/drive/MyDrive/Colab\\ Notebooks/bbc_train/export.pkl /content/"
      ],
      "execution_count": 171,
      "outputs": []
    },
    {
      "cell_type": "code",
      "metadata": {
        "colab": {
          "base_uri": "https://localhost:8080/"
        },
        "id": "DGIpXswavXcR",
        "outputId": "776d2502-6255-400e-df80-9afaa3a620b6"
      },
      "source": [
        "learn.path"
      ],
      "execution_count": 85,
      "outputs": [
        {
          "output_type": "execute_result",
          "data": {
            "text/plain": [
              "PosixPath('/content/drive/My Drive/Colab Notebooks/bbc_train')"
            ]
          },
          "metadata": {
            "tags": []
          },
          "execution_count": 85
        }
      ]
    },
    {
      "cell_type": "code",
      "metadata": {
        "colab": {
          "base_uri": "https://localhost:8080/"
        },
        "id": "oL5w-G-UvZ6d",
        "outputId": "e2000c24-de9d-4873-89d9-70a7f38c0eb5"
      },
      "source": [
        "!python3 eval.py"
      ],
      "execution_count": 173,
      "outputs": [
        {
          "output_type": "stream",
          "text": [
            "1. Loading Data...\n",
            "ImageDataBunch;\n",
            "\n",
            "Train: LabelList (942 items)\n",
            "x: SegmentationItemList\n",
            "Image (3, 256, 256),Image (3, 256, 256),Image (3, 256, 256),Image (3, 256, 256),Image (3, 256, 256)\n",
            "y: SegmentationLabelList\n",
            "ImageSegment (1, 256, 256),ImageSegment (1, 256, 256),ImageSegment (1, 256, 256),ImageSegment (1, 256, 256),ImageSegment (1, 256, 256)\n",
            "Path: /content/drive/MyDrive/Colab Notebooks/bbc_train/images;\n",
            "\n",
            "Valid: LabelList (0 items)\n",
            "x: SegmentationItemList\n",
            "\n",
            "y: SegmentationLabelList\n",
            "\n",
            "Path: /content/drive/MyDrive/Colab Notebooks/bbc_train/images;\n",
            "\n",
            "Test: None\n",
            "2. Instantiating Model...\n",
            "3. Evaluating on Test Images...\n",
            "\n",
            "Done!\n",
            "Execution time (seconds) =  8.634\n",
            "Score =  7 \n",
            "Combined accuracy =  0.9684456969068075 \n",
            "Classification accuracy =  1.0 \n",
            "bbox score =  0.9645926906960085 \n",
            "Segmentation Accuracy =  0.9407444000244141\n"
          ],
          "name": "stdout"
        }
      ]
    },
    {
      "cell_type": "code",
      "metadata": {
        "id": "yLk-Pe3rcftr"
      },
      "source": [
        ""
      ],
      "execution_count": null,
      "outputs": []
    }
  ]
}