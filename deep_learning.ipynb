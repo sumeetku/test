{
  "nbformat": 4,
  "nbformat_minor": 0,
  "metadata": {
    "accelerator": "GPU",
    "colab": {
      "name": "Copy_of_cv_assign.ipynb",
      "provenance": [],
      "collapsed_sections": [],
      "include_colab_link": true
    },
    "kernelspec": {
      "display_name": "Python 3",
      "name": "python3"
    }
  },
  "cells": [
    {
      "cell_type": "markdown",
      "metadata": {
        "id": "view-in-github",
        "colab_type": "text"
      },
      "source": [
        "<a href=\"https://colab.research.google.com/github/sumeetku/test/blob/master/deep_learning.ipynb\" target=\"_parent\"><img src=\"https://colab.research.google.com/assets/colab-badge.svg\" alt=\"Open In Colab\"/></a>"
      ]
    },
    {
      "cell_type": "code",
      "metadata": {
        "colab": {
          "base_uri": "https://localhost:8080/"
        },
        "id": "p6bT8j-1mq-m",
        "outputId": "a05bd00e-1063-4927-857c-7b1c5f652210"
      },
      "source": [
        "%pylab inline\n",
        "from google.colab import drive\n",
        "\n",
        "drive.mount('/content/gdrive')\n"
      ],
      "execution_count": 2,
      "outputs": [
        {
          "output_type": "stream",
          "text": [
            "Populating the interactive namespace from numpy and matplotlib\n",
            "Mounted at /content/gdrive\n"
          ],
          "name": "stdout"
        }
      ]
    },
    {
      "cell_type": "code",
      "metadata": {
        "id": "aRU7Aw5VlOhi"
      },
      "source": [
        "from fastai.vision import *\n",
        "from pathlib import Path\n",
        "import pandas as pd\n",
        "import numpy as np\n",
        "import json"
      ],
      "execution_count": 3,
      "outputs": []
    },
    {
      "cell_type": "code",
      "metadata": {
        "colab": {
          "base_uri": "https://localhost:8080/"
        },
        "id": "5A1XbDRYm0sO",
        "outputId": "1b8ca923-99de-4ed0-b4ae-752bd18442f0"
      },
      "source": [
        "cd /content/gdrive/MyDrive/Colab\\ Notebooks/"
      ],
      "execution_count": 4,
      "outputs": [
        {
          "output_type": "stream",
          "text": [
            "/content/gdrive/MyDrive/Colab Notebooks\n"
          ],
          "name": "stdout"
        }
      ]
    },
    {
      "cell_type": "code",
      "metadata": {
        "colab": {
          "base_uri": "https://localhost:8080/"
        },
        "id": "8Cz0eQAnRMok",
        "outputId": "551fb325-bd67-477b-ea05-b5fe41891d9e"
      },
      "source": [
        "!ls"
      ],
      "execution_count": 5,
      "outputs": [
        {
          "output_type": "stream",
          "text": [
            " bbc_train\t\t\t    predict-volcanic-eruptions.ipynb\n",
            " Copy_of_cv_assign.ipynb\t   'Project data'\n",
            " export.pkl\t\t\t    Untitled0.ipynb\n",
            " kaggle.json\t\t\t    Untitled1.ipynb\n",
            " license_plate_reader.ipynb\t    Untitled2.ipynb\n",
            " modelling.ipynb\t\t    Untitled3.ipynb\n",
            " predict-volcanic-eruptions\t    Untitled4.ipynb\n",
            " predict_volcanic_eruptions.ipynb   Untitled5.ipynb\n"
          ],
          "name": "stdout"
        }
      ]
    },
    {
      "cell_type": "code",
      "metadata": {
        "id": "8Y-nIGtTh74l"
      },
      "source": [
        ""
      ],
      "execution_count": null,
      "outputs": []
    },
    {
      "cell_type": "code",
      "metadata": {
        "colab": {
          "base_uri": "https://localhost:8080/"
        },
        "id": "KV1rURYLlWnj",
        "outputId": "4f2fa54c-c6af-4f56-cf9c-b17f6bf99175"
      },
      "source": [
        "!ls bbc_train/"
      ],
      "execution_count": 6,
      "outputs": [
        {
          "output_type": "stream",
          "text": [
            "bboxes.json\t\t   export.pkl  images  sample_student.py\n",
            "classification_labels.csv  handin.zip  masks\n"
          ],
          "name": "stdout"
        }
      ]
    },
    {
      "cell_type": "code",
      "metadata": {
        "id": "Ghe-6OSGnXfd"
      },
      "source": [
        "path=Path('bbc_train')"
      ],
      "execution_count": 7,
      "outputs": []
    },
    {
      "cell_type": "code",
      "metadata": {
        "colab": {
          "base_uri": "https://localhost:8080/"
        },
        "id": "n4rPxJENnO7M",
        "outputId": "34906303-400d-4bbc-a0ad-ce9a144b7d2e"
      },
      "source": [
        "path.ls()"
      ],
      "execution_count": 8,
      "outputs": [
        {
          "output_type": "execute_result",
          "data": {
            "text/plain": [
              "[PosixPath('bbc_train/.DS_Store'),\n",
              " PosixPath('bbc_train/bboxes.json'),\n",
              " PosixPath('bbc_train/classification_labels.csv'),\n",
              " PosixPath('bbc_train/masks'),\n",
              " PosixPath('bbc_train/images'),\n",
              " PosixPath('bbc_train/.ipynb_checkpoints'),\n",
              " PosixPath('bbc_train/sample_student.py'),\n",
              " PosixPath('bbc_train/export.pkl'),\n",
              " PosixPath('bbc_train/handin.zip')]"
            ]
          },
          "metadata": {
            "tags": []
          },
          "execution_count": 8
        }
      ]
    },
    {
      "cell_type": "code",
      "metadata": {
        "colab": {
          "base_uri": "https://localhost:8080/",
          "height": 204
        },
        "id": "iNRtJ-2qlhXq",
        "outputId": "2ac9f67d-55d0-483a-81f8-fb7b6084b750"
      },
      "source": [
        "labels=pd.read_csv(path/'classification_labels.csv')\n",
        "labels.head()"
      ],
      "execution_count": 9,
      "outputs": [
        {
          "output_type": "execute_result",
          "data": {
            "text/html": [
              "<div>\n",
              "<style scoped>\n",
              "    .dataframe tbody tr th:only-of-type {\n",
              "        vertical-align: middle;\n",
              "    }\n",
              "\n",
              "    .dataframe tbody tr th {\n",
              "        vertical-align: top;\n",
              "    }\n",
              "\n",
              "    .dataframe thead th {\n",
              "        text-align: right;\n",
              "    }\n",
              "</style>\n",
              "<table border=\"1\" class=\"dataframe\">\n",
              "  <thead>\n",
              "    <tr style=\"text-align: right;\">\n",
              "      <th></th>\n",
              "      <th>filename</th>\n",
              "      <th>label</th>\n",
              "      <th>label_index</th>\n",
              "    </tr>\n",
              "  </thead>\n",
              "  <tbody>\n",
              "    <tr>\n",
              "      <th>0</th>\n",
              "      <td>P2050936.jpg</td>\n",
              "      <td>ball</td>\n",
              "      <td>2</td>\n",
              "    </tr>\n",
              "    <tr>\n",
              "      <th>1</th>\n",
              "      <td>P2050922.jpg</td>\n",
              "      <td>ball</td>\n",
              "      <td>2</td>\n",
              "    </tr>\n",
              "    <tr>\n",
              "      <th>2</th>\n",
              "      <td>P2060163.jpg</td>\n",
              "      <td>brick</td>\n",
              "      <td>1</td>\n",
              "    </tr>\n",
              "    <tr>\n",
              "      <th>3</th>\n",
              "      <td>P2060003.jpg</td>\n",
              "      <td>ball</td>\n",
              "      <td>2</td>\n",
              "    </tr>\n",
              "    <tr>\n",
              "      <th>4</th>\n",
              "      <td>P2060017.jpg</td>\n",
              "      <td>ball</td>\n",
              "      <td>2</td>\n",
              "    </tr>\n",
              "  </tbody>\n",
              "</table>\n",
              "</div>"
            ],
            "text/plain": [
              "       filename  label  label_index\n",
              "0  P2050936.jpg   ball            2\n",
              "1  P2050922.jpg   ball            2\n",
              "2  P2060163.jpg  brick            1\n",
              "3  P2060003.jpg   ball            2\n",
              "4  P2060017.jpg   ball            2"
            ]
          },
          "metadata": {
            "tags": []
          },
          "execution_count": 9
        }
      ]
    },
    {
      "cell_type": "code",
      "metadata": {
        "id": "SfsLfUtGhP_q"
      },
      "source": [
        "def get_y_fn(x): return path/'masks'/(x.stem + '.png')\n",
        "classes = array(['background', 'brick', 'ball', 'cylinder'])\n",
        "\n",
        "src = (SegmentationItemList.from_folder(path/'images')\n",
        "       .split_by_rand_pct(0.2)\n",
        "       .label_from_func(get_y_fn, classes=classes))\n",
        "\n",
        "data = (src.transform(get_transforms(), tfm_y=True, size=(256,256))\n",
        "        .databunch(bs=16)\n",
        "        .normalize(imagenet_stats))\n"
      ],
      "execution_count": 56,
      "outputs": []
    },
    {
      "cell_type": "code",
      "metadata": {
        "id": "5M8WDgP4hZJt"
      },
      "source": [
        "def conv_trans(ni, nf, ks = 4, stride = 2, padding = 1):\n",
        "    return nn.Sequential(\n",
        "        nn.ConvTranspose2d(ni, nf, kernel_size=ks, bias=False, stride=stride, padding = padding), \n",
        "        nn.ReLU(inplace = True), \n",
        "        nn.BatchNorm2d(nf))"
      ],
      "execution_count": 57,
      "outputs": []
    },
    {
      "cell_type": "code",
      "metadata": {
        "id": "gKrJN-EghZDt"
      },
      "source": [
        "custom_head=nn.Sequential(conv_trans(512, 256), \n",
        "                          conv_trans(256, 128),\n",
        "                          conv_trans(128, 64),\n",
        "                          conv_trans(64, 32), \n",
        "                          nn.ConvTranspose2d(32, 4, kernel_size=4, bias=False, stride=2, padding = 1))"
      ],
      "execution_count": 58,
      "outputs": []
    },
    {
      "cell_type": "code",
      "metadata": {
        "id": "BBiSB0_uhY9N"
      },
      "source": [
        "\n",
        "\n",
        "def pixel_accuracy(yhat, y):\n",
        "    y_=y.squeeze(dim=1)\n",
        "    yhat_=yhat.argmax(dim=1)\n",
        "    return (y_==yhat_).sum().float()/y.numel()\n",
        "\n"
      ],
      "execution_count": 59,
      "outputs": []
    },
    {
      "cell_type": "code",
      "metadata": {
        "id": "8jc6DhmhhfEO"
      },
      "source": [
        "learn=cnn_learner(data, models.resnet18, custom_head=custom_head, metrics=pixel_accuracy)"
      ],
      "execution_count": 67,
      "outputs": []
    },
    {
      "cell_type": "code",
      "metadata": {
        "colab": {
          "base_uri": "https://localhost:8080/",
          "height": 359
        },
        "id": "hUuzVIJXhk7h",
        "outputId": "3592f8a4-b0e8-480f-b8be-50274518d291"
      },
      "source": [
        "lr=1e-2\n",
        "learn.fit_one_cycle(10, slice(lr/10, lr))\n"
      ],
      "execution_count": 85,
      "outputs": [
        {
          "output_type": "display_data",
          "data": {
            "text/html": [
              "<table border=\"1\" class=\"dataframe\">\n",
              "  <thead>\n",
              "    <tr style=\"text-align: left;\">\n",
              "      <th>epoch</th>\n",
              "      <th>train_loss</th>\n",
              "      <th>valid_loss</th>\n",
              "      <th>pixel_accuracy</th>\n",
              "      <th>time</th>\n",
              "    </tr>\n",
              "  </thead>\n",
              "  <tbody>\n",
              "    <tr>\n",
              "      <td>0</td>\n",
              "      <td>0.022133</td>\n",
              "      <td>0.022635</td>\n",
              "      <td>0.990853</td>\n",
              "      <td>00:17</td>\n",
              "    </tr>\n",
              "    <tr>\n",
              "      <td>1</td>\n",
              "      <td>0.023603</td>\n",
              "      <td>0.028029</td>\n",
              "      <td>0.989438</td>\n",
              "      <td>00:17</td>\n",
              "    </tr>\n",
              "    <tr>\n",
              "      <td>2</td>\n",
              "      <td>0.026687</td>\n",
              "      <td>0.038231</td>\n",
              "      <td>0.985117</td>\n",
              "      <td>00:17</td>\n",
              "    </tr>\n",
              "    <tr>\n",
              "      <td>3</td>\n",
              "      <td>0.029783</td>\n",
              "      <td>0.040898</td>\n",
              "      <td>0.984407</td>\n",
              "      <td>00:17</td>\n",
              "    </tr>\n",
              "    <tr>\n",
              "      <td>4</td>\n",
              "      <td>0.028691</td>\n",
              "      <td>0.037212</td>\n",
              "      <td>0.986058</td>\n",
              "      <td>00:18</td>\n",
              "    </tr>\n",
              "    <tr>\n",
              "      <td>5</td>\n",
              "      <td>0.025618</td>\n",
              "      <td>0.024635</td>\n",
              "      <td>0.989932</td>\n",
              "      <td>00:17</td>\n",
              "    </tr>\n",
              "    <tr>\n",
              "      <td>6</td>\n",
              "      <td>0.023392</td>\n",
              "      <td>0.021208</td>\n",
              "      <td>0.991466</td>\n",
              "      <td>00:17</td>\n",
              "    </tr>\n",
              "    <tr>\n",
              "      <td>7</td>\n",
              "      <td>0.021634</td>\n",
              "      <td>0.021064</td>\n",
              "      <td>0.991236</td>\n",
              "      <td>00:17</td>\n",
              "    </tr>\n",
              "    <tr>\n",
              "      <td>8</td>\n",
              "      <td>0.020527</td>\n",
              "      <td>0.024168</td>\n",
              "      <td>0.990910</td>\n",
              "      <td>00:17</td>\n",
              "    </tr>\n",
              "    <tr>\n",
              "      <td>9</td>\n",
              "      <td>0.019754</td>\n",
              "      <td>0.024387</td>\n",
              "      <td>0.991067</td>\n",
              "      <td>00:17</td>\n",
              "    </tr>\n",
              "  </tbody>\n",
              "</table>"
            ],
            "text/plain": [
              "<IPython.core.display.HTML object>"
            ]
          },
          "metadata": {
            "tags": []
          }
        }
      ]
    },
    {
      "cell_type": "code",
      "metadata": {
        "id": "-n38tPvvbFXf"
      },
      "source": [
        ""
      ],
      "execution_count": 54,
      "outputs": []
    },
    {
      "cell_type": "code",
      "metadata": {
        "colab": {
          "base_uri": "https://localhost:8080/"
        },
        "id": "ULtbSLmGj6hd",
        "outputId": "306b13ce-e2fb-4350-c9b5-9e821f6a4a6d"
      },
      "source": [
        "!pwd"
      ],
      "execution_count": 33,
      "outputs": [
        {
          "output_type": "stream",
          "text": [
            "/content/gdrive/My Drive/Colab Notebooks\n"
          ],
          "name": "stdout"
        }
      ]
    },
    {
      "cell_type": "code",
      "metadata": {
        "id": "qU5OzNJghkvT"
      },
      "source": [
        "learn.export('export.pkl')"
      ],
      "execution_count": 86,
      "outputs": []
    },
    {
      "cell_type": "code",
      "metadata": {
        "id": "P3KqENRBhktM"
      },
      "source": [
        "!cp bbc_train/images/export.pkl .\n"
      ],
      "execution_count": 87,
      "outputs": []
    },
    {
      "cell_type": "code",
      "metadata": {
        "id": "DlYT0ptQhkph"
      },
      "source": [
        ""
      ],
      "execution_count": null,
      "outputs": []
    },
    {
      "cell_type": "code",
      "metadata": {
        "id": "D7DZhbjsZwhX",
        "colab": {
          "base_uri": "https://localhost:8080/"
        },
        "outputId": "0ce895ef-9ce9-4c49-ad7c-e3ed7e14f558"
      },
      "source": [
        "## ---------------------------- ##\n",
        "##\n",
        "## eval.py\n",
        "## Deep learning programming challenge evaluation code. \n",
        "## \n",
        "## ---------------------------- ##\n",
        "\n",
        "import numpy as np\n",
        "import time\n",
        "from fastai.vision import *\n",
        "from pathlib import Path\n",
        "\n",
        "\n",
        "\n",
        "def evaluate(data_path='./bbc_train',\n",
        "             model_dir = '',\n",
        "             batch_size=64, \n",
        "             im_size=(256,256)):\n",
        "\n",
        "    \n",
        "    print(\"1. Loading Data...\")\n",
        "\n",
        "    path=Path(data_path)\n",
        "    def get_y_fn(x): return path/'masks'/(x.stem + '.png')\n",
        "    classes = array(['background', 'brick', 'ball', 'cylinder'])\n",
        "\n",
        "    src = (SegmentationItemList.from_folder(path/'images')\n",
        "       .split_by_rand_pct(0.0)\n",
        "       .label_from_func(get_y_fn, classes=classes))\n",
        "\n",
        "    #Don't normalize data here - assume normalization happens inside of Model. \n",
        "    data = src.transform(get_transforms(), tfm_y=True, size=im_size).databunch(bs=batch_size)\n",
        "    print(data)\n",
        "\n",
        "\n",
        "    print(\"2. Instantiating Model...\")\n",
        "    M = Model(path=model_dir, file='export.pkl')\n",
        "\n",
        "\n",
        "    print(\"3. Evaluating on Test Images...\")\n",
        "    x,y = data.one_batch()\n",
        "    #Extract class label from mask:\n",
        "    class_labels=np.array([np.unique(y[i][y[i]!=0])[0] for i in range(x.shape[0])])\n",
        "\n",
        "    #Extract bounding box from mask:\n",
        "    bboxes=np.zeros((x.shape[0], 4))\n",
        "    for i in range(x.shape[0]):\n",
        "        rows,cols= np.where(y[i, 0]!=0)\n",
        "        bboxes[i, :] = np.array([rows.min(), cols.min(), rows.max(), cols.max()])\n",
        "\n",
        "    preds=M.predict(x)\n",
        "    \n",
        "    classification_accuracy=(np.array([data.classes[i] for i in class_labels])==np.array(preds[0])).sum()/len(preds[0])\n",
        "    bbox_score = 1 - np.mean(np.abs(bboxes-preds[1]))/(x.shape[-1]) #Divide by image height to rougly normalize score\n",
        "    segmentation_accuracy=float((preds[2] == np.array(y.squeeze(1))).sum())/y.numel()\n",
        "    combined_accuracy=np.mean([classification_accuracy, bbox_score, segmentation_accuracy])\n",
        "\n",
        "    return combined_accuracy, classification_accuracy, bbox_score, segmentation_accuracy\n",
        "\n",
        "\n",
        "def calculate_score(combined_accuracy):\n",
        "    if combined_accuracy >= 0.99: score = 10\n",
        "    elif combined_accuracy >= 0.98: score = 9\n",
        "    elif combined_accuracy >= 0.97: score = 8\n",
        "    elif combined_accuracy >= 0.96: score = 7\n",
        "    elif combined_accuracy >= 0.95: score = 6\n",
        "    elif combined_accuracy >= 0.90: score = 5\n",
        "    else: score = 4\n",
        "    return score\n",
        "\n",
        "\n",
        "if __name__ == '__main__':\n",
        "    program_start = time.time()\n",
        "    combined_accuracy, classification_accuracy, bbox_score, segmentation_accuracy = evaluate()\n",
        "    score = calculate_score(combined_accuracy)\n",
        "\n",
        "    program_end = time.time()\n",
        "    total_time = round(program_end - program_start, 3)\n",
        "    \n",
        "    print(\"\\nDone!\")\n",
        "    print(\"Execution time (seconds) = \", total_time)\n",
        "    print(\"Score = \", score, \n",
        "         \"\\nCombined accuracy = \", combined_accuracy, \n",
        "         \"\\nClassification accuracy = \", classification_accuracy,\n",
        "         \"\\nbbox score = \", bbox_score,\n",
        "         \"\\nSegmentation Accuracy = \", segmentation_accuracy)\n",
        "\n"
      ],
      "execution_count": 88,
      "outputs": [
        {
          "output_type": "stream",
          "text": [
            "1. Loading Data...\n",
            "ImageDataBunch;\n",
            "\n",
            "Train: LabelList (942 items)\n",
            "x: SegmentationItemList\n",
            "Image (3, 256, 256),Image (3, 256, 256),Image (3, 256, 256),Image (3, 256, 256),Image (3, 256, 256)\n",
            "y: SegmentationLabelList\n",
            "ImageSegment (1, 256, 256),ImageSegment (1, 256, 256),ImageSegment (1, 256, 256),ImageSegment (1, 256, 256),ImageSegment (1, 256, 256)\n",
            "Path: bbc_train/images;\n",
            "\n",
            "Valid: LabelList (0 items)\n",
            "x: SegmentationItemList\n",
            "\n",
            "y: SegmentationLabelList\n",
            "\n",
            "Path: bbc_train/images;\n",
            "\n",
            "Test: None\n",
            "2. Instantiating Model...\n",
            "3. Evaluating on Test Images...\n"
          ],
          "name": "stdout"
        },
        {
          "output_type": "stream",
          "text": [
            "/usr/local/lib/python3.6/dist-packages/ipykernel_launcher.py:49: UserWarning: To copy construct from a tensor, it is recommended to use sourceTensor.clone().detach() or sourceTensor.clone().detach().requires_grad_(True), rather than torch.tensor(sourceTensor).\n",
            "/usr/local/lib/python3.6/dist-packages/ipykernel_launcher.py:50: UserWarning: To copy construct from a tensor, it is recommended to use sourceTensor.clone().detach() or sourceTensor.clone().detach().requires_grad_(True), rather than torch.tensor(sourceTensor).\n"
          ],
          "name": "stderr"
        },
        {
          "output_type": "stream",
          "text": [
            "\n",
            "Done!\n",
            "Execution time (seconds) =  4.742\n",
            "Score =  10 \n",
            "Combined accuracy =  0.9942366282145182 \n",
            "Classification accuracy =  1.0 \n",
            "bbox score =  0.990386962890625 \n",
            "Segmentation Accuracy =  0.9923229217529297\n"
          ],
          "name": "stdout"
        },
        {
          "output_type": "stream",
          "text": [
            "/usr/local/lib/python3.6/dist-packages/ipykernel_launcher.py:80: DeprecationWarning: elementwise comparison failed; this will raise an error in the future.\n"
          ],
          "name": "stderr"
        }
      ]
    },
    {
      "cell_type": "code",
      "metadata": {
        "id": "iHGPcqjoFLcT"
      },
      "source": [
        ""
      ],
      "execution_count": null,
      "outputs": []
    }
  ]
}